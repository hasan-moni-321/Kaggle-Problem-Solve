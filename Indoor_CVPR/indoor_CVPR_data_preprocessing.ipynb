{
 "cells": [
  {
   "cell_type": "markdown",
   "metadata": {},
   "source": [
    "### Loading necessary file"
   ]
  },
  {
   "cell_type": "code",
   "execution_count": 1,
   "metadata": {},
   "outputs": [],
   "source": [
    "import os\n",
    "import cv2 as cv\n",
    "import image\n",
    "import shutil\n"
   ]
  },
  {
   "cell_type": "markdown",
   "metadata": {},
   "source": [
    "### Path of the file"
   ]
  },
  {
   "cell_type": "code",
   "execution_count": 2,
   "metadata": {},
   "outputs": [],
   "source": [
    "new_train_path = \"/home/hasan/DATA SET/Indoor CVPR/train_image\"\n",
    "new_test_path = \"/home/hasan/DATA SET/Indoor CVPR/test_image\"\n",
    "\n",
    "image_path = \"/home/hasan/DATA SET/Indoor CVPR/Images_all\"\n",
    "\n",
    "txt_train_file_path = \"/home/hasan/DATA SET/Indoor CVPR/TrainImages.txt\"\n",
    "txt_test_file_path = \"/home/hasan/DATA SET/Indoor CVPR/TestImages.txt\"\n"
   ]
  },
  {
   "cell_type": "markdown",
   "metadata": {},
   "source": [
    "### Function to seperate train and test images"
   ]
  },
  {
   "cell_type": "code",
   "execution_count": 3,
   "metadata": {},
   "outputs": [],
   "source": [
    "def seperate_train_test_images(img_path, new_path, text_file):\n",
    "    \n",
    "    f = open(text_file)\n",
    "    line = f.readline()\n",
    "\n",
    "    while line:\n",
    "        class_name = line.split(\"/\")[0]\n",
    "        image_name = line.split(\"\\n\")[0]\n",
    "        image_name = image_name.split(\"/\")[1]\n",
    "    \n",
    "        # Making new directory\n",
    "        if class_name not in os.listdir(new_path):\n",
    "            os.makedirs(os.path.join(new_path, class_name))\n",
    "        \n",
    "        # Copy and keeping file in created directory\n",
    "        shutil.copyfile(\n",
    "            os.path.join(img_path, class_name, image_name),\n",
    "            os.path.join(new_path, class_name, image_name)\n",
    "        )\n",
    "    \n",
    "        # use realine() to read next line\n",
    "        line = f.readline()\n",
    "    f.close()\n",
    "    "
   ]
  },
  {
   "cell_type": "code",
   "execution_count": 4,
   "metadata": {},
   "outputs": [],
   "source": [
    "# Seperating train images\n",
    "seperate_train_test_images(image_path, new_train_path, txt_train_file_path)"
   ]
  },
  {
   "cell_type": "code",
   "execution_count": 5,
   "metadata": {},
   "outputs": [],
   "source": [
    "# Seperating test images\n",
    "seperate_train_test_images(image_path, new_test_path, txt_test_file_path)"
   ]
  },
  {
   "cell_type": "code",
   "execution_count": null,
   "metadata": {},
   "outputs": [],
   "source": []
  }
 ],
 "metadata": {
  "kernelspec": {
   "display_name": "Python 3",
   "language": "python",
   "name": "python3"
  },
  "language_info": {
   "codemirror_mode": {
    "name": "ipython",
    "version": 3
   },
   "file_extension": ".py",
   "mimetype": "text/x-python",
   "name": "python",
   "nbconvert_exporter": "python",
   "pygments_lexer": "ipython3",
   "version": "3.7.4"
  }
 },
 "nbformat": 4,
 "nbformat_minor": 2
}
