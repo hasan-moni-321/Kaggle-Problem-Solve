{
 "cells": [
  {
   "cell_type": "code",
   "execution_count": 22,
   "metadata": {},
   "outputs": [],
   "source": [
    "import numpy as np\n",
    "import pandas as pd\n",
    "import matplotlib.pyplot as plt\n",
    "import tensorflow as tf\n",
    "from tensorflow.keras.models import Sequential\n",
    "from tensorflow.keras.layers import Dense,LSTM\n",
    "from sklearn.preprocessing import MinMaxScaler"
   ]
  },
  {
   "cell_type": "code",
   "execution_count": 23,
   "metadata": {},
   "outputs": [],
   "source": [
    "data = pd.read_csv('/home/hasan/DATA SET/air-passengers/AirPassengers.csv')"
   ]
  },
  {
   "cell_type": "code",
   "execution_count": 24,
   "metadata": {},
   "outputs": [
    {
     "data": {
      "text/html": [
       "<div>\n",
       "<style scoped>\n",
       "    .dataframe tbody tr th:only-of-type {\n",
       "        vertical-align: middle;\n",
       "    }\n",
       "\n",
       "    .dataframe tbody tr th {\n",
       "        vertical-align: top;\n",
       "    }\n",
       "\n",
       "    .dataframe thead th {\n",
       "        text-align: right;\n",
       "    }\n",
       "</style>\n",
       "<table border=\"1\" class=\"dataframe\">\n",
       "  <thead>\n",
       "    <tr style=\"text-align: right;\">\n",
       "      <th></th>\n",
       "      <th>Month</th>\n",
       "      <th>Passengers</th>\n",
       "    </tr>\n",
       "  </thead>\n",
       "  <tbody>\n",
       "    <tr>\n",
       "      <th>0</th>\n",
       "      <td>1949-01</td>\n",
       "      <td>112</td>\n",
       "    </tr>\n",
       "    <tr>\n",
       "      <th>1</th>\n",
       "      <td>1949-02</td>\n",
       "      <td>118</td>\n",
       "    </tr>\n",
       "    <tr>\n",
       "      <th>2</th>\n",
       "      <td>1949-03</td>\n",
       "      <td>132</td>\n",
       "    </tr>\n",
       "    <tr>\n",
       "      <th>3</th>\n",
       "      <td>1949-04</td>\n",
       "      <td>129</td>\n",
       "    </tr>\n",
       "    <tr>\n",
       "      <th>4</th>\n",
       "      <td>1949-05</td>\n",
       "      <td>121</td>\n",
       "    </tr>\n",
       "  </tbody>\n",
       "</table>\n",
       "</div>"
      ],
      "text/plain": [
       "     Month  Passengers\n",
       "0  1949-01         112\n",
       "1  1949-02         118\n",
       "2  1949-03         132\n",
       "3  1949-04         129\n",
       "4  1949-05         121"
      ]
     },
     "execution_count": 24,
     "metadata": {},
     "output_type": "execute_result"
    }
   ],
   "source": [
    "data.head()"
   ]
  },
  {
   "cell_type": "code",
   "execution_count": 25,
   "metadata": {},
   "outputs": [
    {
     "data": {
      "text/plain": [
       "(144, 2)"
      ]
     },
     "execution_count": 25,
     "metadata": {},
     "output_type": "execute_result"
    }
   ],
   "source": [
    "data.shape"
   ]
  },
  {
   "cell_type": "code",
   "execution_count": 26,
   "metadata": {},
   "outputs": [
    {
     "data": {
      "text/plain": [
       "Month         0\n",
       "Passengers    0\n",
       "dtype: int64"
      ]
     },
     "execution_count": 26,
     "metadata": {},
     "output_type": "execute_result"
    }
   ],
   "source": [
    "data.isnull().sum()"
   ]
  },
  {
   "cell_type": "code",
   "execution_count": 27,
   "metadata": {},
   "outputs": [],
   "source": [
    "data = data['Passengers']"
   ]
  },
  {
   "cell_type": "code",
   "execution_count": 28,
   "metadata": {},
   "outputs": [
    {
     "data": {
      "text/plain": [
       "Text(0.5, 1.0, 'Original data')"
      ]
     },
     "execution_count": 28,
     "metadata": {},
     "output_type": "execute_result"
    },
    {
     "data": {
      "image/png": "[encoded data removed]",
      "text/plain": [
       "<Figure size 432x288 with 1 Axes>"
      ]
     },
     "metadata": {
      "needs_background": "light"
     },
     "output_type": "display_data"
    }
   ],
   "source": [
    "plt.plot(data)\n",
    "plt.title('Original data')"
   ]
  },
  {
   "cell_type": "code",
   "execution_count": 29,
   "metadata": {},
   "outputs": [],
   "source": [
    "data = np.array(data).reshape(-1,1)"
   ]
  },
  {
   "cell_type": "markdown",
   "metadata": {},
   "source": [
    "### Feature scale"
   ]
  },
  {
   "cell_type": "code",
   "execution_count": 30,
   "metadata": {},
   "outputs": [],
   "source": [
    "scaler = MinMaxScaler()\n",
    "data = scaler.fit_transform(data)"
   ]
  },
  {
   "cell_type": "markdown",
   "metadata": {},
   "source": [
    "### dividing dataset into train test "
   ]
  },
  {
   "cell_type": "code",
   "execution_count": 33,
   "metadata": {},
   "outputs": [
    {
     "name": "stdout",
     "output_type": "stream",
     "text": [
      "Shape of train : (100, 1)\n",
      "Shape of test : (44, 1)\n"
     ]
    }
   ],
   "source": [
    "train_size = int(len(data)*.70) \n",
    "test_size = len(data) - train_size\n",
    "\n",
    "train,test = data[0:train_size, :], data[train_size:, :]\n",
    "print('Shape of train :',train.shape)\n",
    "print('Shape of test :',test.shape)"
   ]
  },
  {
   "cell_type": "markdown",
   "metadata": {},
   "source": [
    "### Feature and Label Data"
   ]
  },
  {
   "cell_type": "code",
   "execution_count": 34,
   "metadata": {},
   "outputs": [],
   "source": [
    "def feature_label(data, time_step=1):\n",
    "    feature=[]\n",
    "    label = []\n",
    "    for i in range(len(data)-time_step-1):\n",
    "        f = data[i:(i+time_step),0]\n",
    "        l = data[i+time_step, 0]\n",
    "        feature.append(f)\n",
    "        label.append(l)\n",
    "        \n",
    "    return np.array(feature), np.array(label)"
   ]
  },
  {
   "cell_type": "code",
   "execution_count": 35,
   "metadata": {},
   "outputs": [],
   "source": [
    "time_step = 1\n",
    "trainX, trainY = feature_label(train, time_step)\n",
    "testX, testY = feature_label(test, time_step)"
   ]
  },
  {
   "cell_type": "markdown",
   "metadata": {},
   "source": [
    "### Reshaping trainX and testX"
   ]
  },
  {
   "cell_type": "code",
   "execution_count": 36,
   "metadata": {},
   "outputs": [],
   "source": [
    "trainX = trainX.reshape(trainX.shape[0], trainX.shape[1], 1)\n",
    "testX = testX.reshape(testX.shape[0], testX.shape[1],1)"
   ]
  },
  {
   "cell_type": "code",
   "execution_count": 37,
   "metadata": {},
   "outputs": [
    {
     "name": "stdout",
     "output_type": "stream",
     "text": [
      "Shape of trainX : (98, 1, 1)\n",
      "Shape of testX : (42, 1, 1)\n"
     ]
    }
   ],
   "source": [
    "print('Shape of trainX :', trainX.shape)\n",
    "print('Shape of testX :',testX.shape)"
   ]
  },
  {
   "cell_type": "markdown",
   "metadata": {},
   "source": [
    "### Model"
   ]
  },
  {
   "cell_type": "code",
   "execution_count": 38,
   "metadata": {},
   "outputs": [],
   "source": [
    "model = Sequential()\n",
    "model.add(LSTM(50, input_shape=(1, time_step)))\n",
    "model.add(Dense(1))"
   ]
  },
  {
   "cell_type": "code",
   "execution_count": 39,
   "metadata": {},
   "outputs": [
    {
     "name": "stdout",
     "output_type": "stream",
     "text": [
      "Model: \"sequential\"\n",
      "_________________________________________________________________\n",
      "Layer (type)                 Output Shape              Param #   \n",
      "=================================================================\n",
      "lstm (LSTM)                  (None, 50)                10400     \n",
      "_________________________________________________________________\n",
      "dense (Dense)                (None, 1)                 51        \n",
      "=================================================================\n",
      "Total params: 10,451\n",
      "Trainable params: 10,451\n",
      "Non-trainable params: 0\n",
      "_________________________________________________________________\n"
     ]
    }
   ],
   "source": [
    "model.summary()"
   ]
  },
  {
   "cell_type": "code",
   "execution_count": 40,
   "metadata": {},
   "outputs": [],
   "source": [
    "model.compile(loss='mean_squared_error',\n",
    "              optimizer='adam')"
   ]
  },
  {
   "cell_type": "code",
   "execution_count": 41,
   "metadata": {},
   "outputs": [
    {
     "name": "stdout",
     "output_type": "stream",
     "text": [
      "Train on 98 samples\n",
      "Epoch 1/100\n",
      "98/98 [==============================] - 3s 32ms/sample - loss: 0.0273\n",
      "Epoch 2/100\n",
      "98/98 [==============================] - 0s 3ms/sample - loss: 0.0115\n",
      "Epoch 3/100\n",
      "98/98 [==============================] - 0s 3ms/sample - loss: 0.0091\n",
      "Epoch 4/100\n",
      "98/98 [==============================] - 0s 3ms/sample - loss: 0.0070\n",
      "Epoch 5/100\n",
      "98/98 [==============================] - 0s 3ms/sample - loss: 0.0052\n",
      "Epoch 6/100\n",
      "98/98 [==============================] - 0s 3ms/sample - loss: 0.0038\n",
      "Epoch 7/100\n",
      "98/98 [==============================] - 0s 3ms/sample - loss: 0.0030\n",
      "Epoch 8/100\n",
      "98/98 [==============================] - 0s 3ms/sample - loss: 0.0026\n",
      "Epoch 9/100\n",
      "98/98 [==============================] - 0s 3ms/sample - loss: 0.0023\n",
      "Epoch 10/100\n",
      "98/98 [==============================] - 0s 3ms/sample - loss: 0.0023\n",
      "Epoch 11/100\n",
      "98/98 [==============================] - 0s 3ms/sample - loss: 0.0022\n",
      "Epoch 12/100\n",
      "98/98 [==============================] - 0s 3ms/sample - loss: 0.0022\n",
      "Epoch 13/100\n",
      "98/98 [==============================] - 0s 3ms/sample - loss: 0.0023\n",
      "Epoch 14/100\n",
      "98/98 [==============================] - 0s 3ms/sample - loss: 0.0022\n",
      "Epoch 15/100\n",
      "98/98 [==============================] - 0s 3ms/sample - loss: 0.0022\n",
      "Epoch 16/100\n",
      "98/98 [==============================] - 0s 3ms/sample - loss: 0.0023\n",
      "Epoch 17/100\n",
      "98/98 [==============================] - 0s 4ms/sample - loss: 0.0024\n",
      "Epoch 18/100\n",
      "98/98 [==============================] - 0s 3ms/sample - loss: 0.0022\n",
      "Epoch 19/100\n",
      "98/98 [==============================] - 0s 3ms/sample - loss: 0.0022\n",
      "Epoch 20/100\n",
      "98/98 [==============================] - 0s 3ms/sample - loss: 0.0022\n",
      "Epoch 21/100\n",
      "98/98 [==============================] - 0s 3ms/sample - loss: 0.0023\n",
      "Epoch 22/100\n",
      "98/98 [==============================] - 0s 3ms/sample - loss: 0.0021\n",
      "Epoch 23/100\n",
      "98/98 [==============================] - 0s 3ms/sample - loss: 0.0025\n",
      "Epoch 24/100\n",
      "98/98 [==============================] - 0s 3ms/sample - loss: 0.0022\n",
      "Epoch 25/100\n",
      "98/98 [==============================] - 0s 4ms/sample - loss: 0.0022\n",
      "Epoch 26/100\n",
      "98/98 [==============================] - 0s 3ms/sample - loss: 0.0022\n",
      "Epoch 27/100\n",
      "98/98 [==============================] - 0s 3ms/sample - loss: 0.0023\n",
      "Epoch 28/100\n",
      "98/98 [==============================] - 0s 3ms/sample - loss: 0.0022\n",
      "Epoch 29/100\n",
      "98/98 [==============================] - 0s 3ms/sample - loss: 0.0021\n",
      "Epoch 30/100\n",
      "98/98 [==============================] - 0s 3ms/sample - loss: 0.0021\n",
      "Epoch 31/100\n",
      "98/98 [==============================] - 0s 3ms/sample - loss: 0.0023\n",
      "Epoch 32/100\n",
      "98/98 [==============================] - 0s 3ms/sample - loss: 0.0022\n",
      "Epoch 33/100\n",
      "98/98 [==============================] - 0s 3ms/sample - loss: 0.0022\n",
      "Epoch 34/100\n",
      "98/98 [==============================] - 0s 3ms/sample - loss: 0.0023\n",
      "Epoch 35/100\n",
      "98/98 [==============================] - 0s 3ms/sample - loss: 0.0022\n",
      "Epoch 36/100\n",
      "98/98 [==============================] - 0s 3ms/sample - loss: 0.0022\n",
      "Epoch 37/100\n",
      "98/98 [==============================] - 0s 3ms/sample - loss: 0.0022\n",
      "Epoch 38/100\n",
      "98/98 [==============================] - 0s 3ms/sample - loss: 0.0023\n",
      "Epoch 39/100\n",
      "98/98 [==============================] - 0s 3ms/sample - loss: 0.0024\n",
      "Epoch 40/100\n",
      "98/98 [==============================] - 0s 3ms/sample - loss: 0.0026\n",
      "Epoch 41/100\n",
      "98/98 [==============================] - 0s 3ms/sample - loss: 0.0022\n",
      "Epoch 42/100\n",
      "98/98 [==============================] - 0s 3ms/sample - loss: 0.0022\n",
      "Epoch 43/100\n",
      "98/98 [==============================] - 0s 3ms/sample - loss: 0.0025\n",
      "Epoch 44/100\n",
      "98/98 [==============================] - 0s 4ms/sample - loss: 0.0024\n",
      "Epoch 45/100\n",
      "98/98 [==============================] - 0s 4ms/sample - loss: 0.0023\n",
      "Epoch 46/100\n",
      "98/98 [==============================] - 0s 3ms/sample - loss: 0.0024\n",
      "Epoch 47/100\n",
      "98/98 [==============================] - 0s 3ms/sample - loss: 0.0023\n",
      "Epoch 48/100\n",
      "98/98 [==============================] - 0s 3ms/sample - loss: 0.0022\n",
      "Epoch 49/100\n",
      "98/98 [==============================] - 0s 3ms/sample - loss: 0.0022\n",
      "Epoch 50/100\n",
      "98/98 [==============================] - 0s 3ms/sample - loss: 0.0022\n",
      "Epoch 51/100\n",
      "98/98 [==============================] - 0s 3ms/sample - loss: 0.0022\n",
      "Epoch 52/100\n",
      "98/98 [==============================] - 0s 3ms/sample - loss: 0.0022\n",
      "Epoch 53/100\n",
      "98/98 [==============================] - 0s 3ms/sample - loss: 0.0021\n",
      "Epoch 54/100\n",
      "98/98 [==============================] - 0s 3ms/sample - loss: 0.0021\n",
      "Epoch 55/100\n",
      "98/98 [==============================] - 0s 3ms/sample - loss: 0.0024\n",
      "Epoch 56/100\n",
      "98/98 [==============================] - 0s 3ms/sample - loss: 0.0023\n",
      "Epoch 57/100\n",
      "98/98 [==============================] - 0s 3ms/sample - loss: 0.0023\n",
      "Epoch 58/100\n",
      "98/98 [==============================] - 0s 3ms/sample - loss: 0.0022\n",
      "Epoch 59/100\n",
      "98/98 [==============================] - 0s 3ms/sample - loss: 0.0022\n",
      "Epoch 60/100\n",
      "98/98 [==============================] - 0s 3ms/sample - loss: 0.0022\n",
      "Epoch 61/100\n",
      "98/98 [==============================] - 0s 3ms/sample - loss: 0.0022\n",
      "Epoch 62/100\n",
      "98/98 [==============================] - 0s 3ms/sample - loss: 0.0021\n",
      "Epoch 63/100\n",
      "98/98 [==============================] - 0s 3ms/sample - loss: 0.0022\n",
      "Epoch 64/100\n",
      "98/98 [==============================] - 0s 3ms/sample - loss: 0.0021\n",
      "Epoch 65/100\n",
      "98/98 [==============================] - 0s 3ms/sample - loss: 0.0022\n",
      "Epoch 66/100\n",
      "98/98 [==============================] - 0s 3ms/sample - loss: 0.0024\n",
      "Epoch 67/100\n",
      "98/98 [==============================] - 0s 3ms/sample - loss: 0.0023\n",
      "Epoch 68/100\n",
      "98/98 [==============================] - 0s 3ms/sample - loss: 0.0022\n",
      "Epoch 69/100\n",
      "98/98 [==============================] - 0s 4ms/sample - loss: 0.0021\n",
      "Epoch 70/100\n",
      "98/98 [==============================] - 0s 3ms/sample - loss: 0.0023\n",
      "Epoch 71/100\n",
      "98/98 [==============================] - 0s 3ms/sample - loss: 0.0021\n",
      "Epoch 72/100\n",
      "98/98 [==============================] - 0s 3ms/sample - loss: 0.0023\n",
      "Epoch 73/100\n",
      "98/98 [==============================] - 0s 3ms/sample - loss: 0.0023\n",
      "Epoch 74/100\n",
      "98/98 [==============================] - 0s 3ms/sample - loss: 0.0021\n",
      "Epoch 75/100\n",
      "98/98 [==============================] - 0s 3ms/sample - loss: 0.0022\n",
      "Epoch 76/100\n",
      "98/98 [==============================] - 0s 3ms/sample - loss: 0.0022\n",
      "Epoch 77/100\n",
      "98/98 [==============================] - 0s 4ms/sample - loss: 0.0021\n",
      "Epoch 78/100\n",
      "98/98 [==============================] - 0s 3ms/sample - loss: 0.0022\n",
      "Epoch 79/100\n",
      "98/98 [==============================] - 0s 3ms/sample - loss: 0.0021\n",
      "Epoch 80/100\n",
      "98/98 [==============================] - 0s 3ms/sample - loss: 0.0021\n",
      "Epoch 81/100\n",
      "98/98 [==============================] - 0s 3ms/sample - loss: 0.0023\n",
      "Epoch 82/100\n",
      "98/98 [==============================] - 0s 3ms/sample - loss: 0.0022\n",
      "Epoch 83/100\n",
      "98/98 [==============================] - 0s 3ms/sample - loss: 0.0021\n",
      "Epoch 84/100\n",
      "98/98 [==============================] - 0s 3ms/sample - loss: 0.0022\n",
      "Epoch 85/100\n",
      "98/98 [==============================] - 0s 3ms/sample - loss: 0.0022\n",
      "Epoch 86/100\n",
      "98/98 [==============================] - 0s 3ms/sample - loss: 0.0021\n",
      "Epoch 87/100\n",
      "98/98 [==============================] - 0s 3ms/sample - loss: 0.0023\n",
      "Epoch 88/100\n",
      "98/98 [==============================] - 0s 3ms/sample - loss: 0.0022\n",
      "Epoch 89/100\n",
      "98/98 [==============================] - 0s 3ms/sample - loss: 0.0021\n",
      "Epoch 90/100\n",
      "98/98 [==============================] - 0s 3ms/sample - loss: 0.0024\n",
      "Epoch 91/100\n",
      "98/98 [==============================] - 0s 3ms/sample - loss: 0.0021\n",
      "Epoch 92/100\n",
      "98/98 [==============================] - 0s 3ms/sample - loss: 0.0023\n",
      "Epoch 93/100\n",
      "98/98 [==============================] - 0s 3ms/sample - loss: 0.0022\n",
      "Epoch 94/100\n",
      "98/98 [==============================] - 0s 3ms/sample - loss: 0.0022\n",
      "Epoch 95/100\n",
      "98/98 [==============================] - 0s 3ms/sample - loss: 0.0022\n",
      "Epoch 96/100\n",
      "98/98 [==============================] - 0s 3ms/sample - loss: 0.0021\n",
      "Epoch 97/100\n",
      "98/98 [==============================] - 0s 3ms/sample - loss: 0.0022\n",
      "Epoch 98/100\n",
      "98/98 [==============================] - 0s 3ms/sample - loss: 0.0024\n",
      "Epoch 99/100\n",
      "98/98 [==============================] - 0s 3ms/sample - loss: 0.0022\n",
      "Epoch 100/100\n",
      "98/98 [==============================] - 0s 3ms/sample - loss: 0.0022\n"
     ]
    },
    {
     "data": {
      "text/plain": [
       "<tensorflow.python.keras.callbacks.History at 0x7fd346813d90>"
      ]
     },
     "execution_count": 41,
     "metadata": {},
     "output_type": "execute_result"
    }
   ],
   "source": [
    "model.fit(trainX,trainY, epochs=100, batch_size=1)"
   ]
  },
  {
   "cell_type": "markdown",
   "metadata": {},
   "source": [
    "### Predict with test data"
   ]
  },
  {
   "cell_type": "code",
   "execution_count": 42,
   "metadata": {},
   "outputs": [],
   "source": [
    "predict = model.predict(testX)"
   ]
  },
  {
   "cell_type": "code",
   "execution_count": 43,
   "metadata": {},
   "outputs": [],
   "source": [
    "predict = scaler.inverse_transform(predict)"
   ]
  },
  {
   "cell_type": "code",
   "execution_count": 44,
   "metadata": {},
   "outputs": [],
   "source": [
    "ytest = testY.reshape(-1,1)\n",
    "ytest = scaler.inverse_transform(ytest)"
   ]
  },
  {
   "cell_type": "markdown",
   "metadata": {},
   "source": [
    "### plot of predict and ytest "
   ]
  },
  {
   "cell_type": "code",
   "execution_count": 46,
   "metadata": {},
   "outputs": [
    {
     "data": {
      "image/png": "[encoded data removed]",
      "text/plain": [
       "<Figure size 720x432 with 1 Axes>"
      ]
     },
     "metadata": {
      "needs_background": "light"
     },
     "output_type": "display_data"
    }
   ],
   "source": [
    "plt.figure(figsize=(10,6))\n",
    "plt.plot(ytest, label='Original data')\n",
    "plt.plot(predict, label='Predicted data')\n",
    "plt.ylabel('number of passengers')\n",
    "plt.legend()\n",
    "plt.show()"
   ]
  },
  {
   "cell_type": "code",
   "execution_count": null,
   "metadata": {},
   "outputs": [],
   "source": []
  }
 ],
 "metadata": {
  "kernelspec": {
   "display_name": "Python 3",
   "language": "python",
   "name": "python3"
  },
  "language_info": {
   "codemirror_mode": {
    "name": "ipython",
    "version": 3
   },
   "file_extension": ".py",
   "mimetype": "text/x-python",
   "name": "python",
   "nbconvert_exporter": "python",
   "pygments_lexer": "ipython3",
   "version": "3.7.5"
  }
 },
 "nbformat": 4,
 "nbformat_minor": 2
}
